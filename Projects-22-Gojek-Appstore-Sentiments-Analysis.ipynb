{
 "cells": [
  {
   "cell_type": "code",
   "execution_count": 6,
   "id": "b25c4b6e",
   "metadata": {},
   "outputs": [],
   "source": [
    "import pandas as pd\n",
    "import numpy as np\n",
    "import matplotlib.pyplot as plt\n",
    "import seaborn as sns"
   ]
  },
  {
   "cell_type": "code",
   "execution_count": 7,
   "id": "b30ba4ea",
   "metadata": {},
   "outputs": [
    {
     "data": {
      "text/html": [
       "<div>\n",
       "<style scoped>\n",
       "    .dataframe tbody tr th:only-of-type {\n",
       "        vertical-align: middle;\n",
       "    }\n",
       "\n",
       "    .dataframe tbody tr th {\n",
       "        vertical-align: top;\n",
       "    }\n",
       "\n",
       "    .dataframe thead th {\n",
       "        text-align: right;\n",
       "    }\n",
       "</style>\n",
       "<table border=\"1\" class=\"dataframe\">\n",
       "  <thead>\n",
       "    <tr style=\"text-align: right;\">\n",
       "      <th></th>\n",
       "      <th>Unnamed: 0</th>\n",
       "      <th>date</th>\n",
       "      <th>review</th>\n",
       "      <th>rating</th>\n",
       "      <th>title</th>\n",
       "    </tr>\n",
       "  </thead>\n",
       "  <tbody>\n",
       "    <tr>\n",
       "      <th>0</th>\n",
       "      <td>0</td>\n",
       "      <td>2017-09-11 12:10:00</td>\n",
       "      <td>Good</td>\n",
       "      <td>5</td>\n",
       "      <td>Awesome</td>\n",
       "    </tr>\n",
       "    <tr>\n",
       "      <th>1</th>\n",
       "      <td>1</td>\n",
       "      <td>2018-11-09 11:16:00</td>\n",
       "      <td>Kenapa tidak ada opsi login with email??? Tolo...</td>\n",
       "      <td>4</td>\n",
       "      <td>Login with Email</td>\n",
       "    </tr>\n",
       "    <tr>\n",
       "      <th>2</th>\n",
       "      <td>2</td>\n",
       "      <td>2019-05-18 09:11:00</td>\n",
       "      <td>Beberapa minggu ini jadi sering force close, g...</td>\n",
       "      <td>1</td>\n",
       "      <td>Force close di iPhone 6 Low Power Mode</td>\n",
       "    </tr>\n",
       "    <tr>\n",
       "      <th>3</th>\n",
       "      <td>3</td>\n",
       "      <td>2020-01-11 05:56:00</td>\n",
       "      <td>1. Go mart nya kok di hilangin kenapa sih, udh...</td>\n",
       "      <td>1</td>\n",
       "      <td>Gojek kamu telah berubah... :(</td>\n",
       "    </tr>\n",
       "    <tr>\n",
       "      <th>4</th>\n",
       "      <td>4</td>\n",
       "      <td>2019-12-24 03:36:00</td>\n",
       "      <td>Promo di hp tiap ornag beda, ada yg ada promon...</td>\n",
       "      <td>1</td>\n",
       "      <td>Brenti mainin harga</td>\n",
       "    </tr>\n",
       "    <tr>\n",
       "      <th>...</th>\n",
       "      <td>...</td>\n",
       "      <td>...</td>\n",
       "      <td>...</td>\n",
       "      <td>...</td>\n",
       "      <td>...</td>\n",
       "    </tr>\n",
       "    <tr>\n",
       "      <th>1995</th>\n",
       "      <td>1995</td>\n",
       "      <td>2024-04-11 11:21:00</td>\n",
       "      <td>Kurang banyak discount</td>\n",
       "      <td>4</td>\n",
       "      <td>Discount</td>\n",
       "    </tr>\n",
       "    <tr>\n",
       "      <th>1996</th>\n",
       "      <td>1996</td>\n",
       "      <td>2024-04-11 06:44:00</td>\n",
       "      <td>terimakasih ya, karna gojek, bisa ngebantu kal...</td>\n",
       "      <td>5</td>\n",
       "      <td>Nilai.</td>\n",
       "    </tr>\n",
       "    <tr>\n",
       "      <th>1997</th>\n",
       "      <td>1997</td>\n",
       "      <td>2024-04-11 10:13:00</td>\n",
       "      <td>Driver telp lalu matikan, hacker di kembang bi...</td>\n",
       "      <td>1</td>\n",
       "      <td>Driver nakal, charge parkir padahal gratis</td>\n",
       "    </tr>\n",
       "    <tr>\n",
       "      <th>1998</th>\n",
       "      <td>1998</td>\n",
       "      <td>2024-04-11 05:05:00</td>\n",
       "      <td>⭐️⭐️⭐️⭐️⭐️</td>\n",
       "      <td>5</td>\n",
       "      <td>⭐️⭐️⭐️⭐️⭐️</td>\n",
       "    </tr>\n",
       "    <tr>\n",
       "      <th>1999</th>\n",
       "      <td>1999</td>\n",
       "      <td>2024-04-11 05:14:00</td>\n",
       "      <td>gojek udah ga sama lagi kaya dlu masa pesen go...</td>\n",
       "      <td>1</td>\n",
       "      <td>biaya admin terlalu tinggi</td>\n",
       "    </tr>\n",
       "  </tbody>\n",
       "</table>\n",
       "<p>2000 rows × 5 columns</p>\n",
       "</div>"
      ],
      "text/plain": [
       "      Unnamed: 0                date  \\\n",
       "0              0 2017-09-11 12:10:00   \n",
       "1              1 2018-11-09 11:16:00   \n",
       "2              2 2019-05-18 09:11:00   \n",
       "3              3 2020-01-11 05:56:00   \n",
       "4              4 2019-12-24 03:36:00   \n",
       "...          ...                 ...   \n",
       "1995        1995 2024-04-11 11:21:00   \n",
       "1996        1996 2024-04-11 06:44:00   \n",
       "1997        1997 2024-04-11 10:13:00   \n",
       "1998        1998 2024-04-11 05:05:00   \n",
       "1999        1999 2024-04-11 05:14:00   \n",
       "\n",
       "                                                 review  rating  \\\n",
       "0                                                  Good       5   \n",
       "1     Kenapa tidak ada opsi login with email??? Tolo...       4   \n",
       "2     Beberapa minggu ini jadi sering force close, g...       1   \n",
       "3     1. Go mart nya kok di hilangin kenapa sih, udh...       1   \n",
       "4     Promo di hp tiap ornag beda, ada yg ada promon...       1   \n",
       "...                                                 ...     ...   \n",
       "1995                             Kurang banyak discount       4   \n",
       "1996  terimakasih ya, karna gojek, bisa ngebantu kal...       5   \n",
       "1997  Driver telp lalu matikan, hacker di kembang bi...       1   \n",
       "1998                                         ⭐️⭐️⭐️⭐️⭐️       5   \n",
       "1999  gojek udah ga sama lagi kaya dlu masa pesen go...       1   \n",
       "\n",
       "                                           title  \n",
       "0                                        Awesome  \n",
       "1                               Login with Email  \n",
       "2         Force close di iPhone 6 Low Power Mode  \n",
       "3                 Gojek kamu telah berubah... :(  \n",
       "4                            Brenti mainin harga  \n",
       "...                                          ...  \n",
       "1995                                    Discount  \n",
       "1996                                      Nilai.  \n",
       "1997  Driver nakal, charge parkir padahal gratis  \n",
       "1998                                  ⭐️⭐️⭐️⭐️⭐️  \n",
       "1999                  biaya admin terlalu tinggi  \n",
       "\n",
       "[2000 rows x 5 columns]"
      ]
     },
     "execution_count": 7,
     "metadata": {},
     "output_type": "execute_result"
    }
   ],
   "source": [
    "# 1. Membaca dataset\n",
    "df = pd.read_csv(r'C:\\Users\\OPTION\\Downloads\\Python DA\\Projects 22_Gojek Appstore Sentiments Analysis (Upload Nanti)\\AppStoreGojekReviews.csv', parse_dates=['date'])\n",
    "df"
   ]
  },
  {
   "cell_type": "code",
   "execution_count": 8,
   "id": "c841b936",
   "metadata": {},
   "outputs": [
    {
     "name": "stdout",
     "output_type": "stream",
     "text": [
      "Dimensi awal dataset: (2000, 5)\n"
     ]
    }
   ],
   "source": [
    "# Menampilkan informasi dasar\n",
    "print(\"Dimensi awal dataset:\", df.shape)"
   ]
  },
  {
   "cell_type": "code",
   "execution_count": 9,
   "id": "bea01354",
   "metadata": {},
   "outputs": [
    {
     "name": "stdout",
     "output_type": "stream",
     "text": [
      "<class 'pandas.core.frame.DataFrame'>\n",
      "RangeIndex: 2000 entries, 0 to 1999\n",
      "Data columns (total 5 columns):\n",
      " #   Column      Non-Null Count  Dtype         \n",
      "---  ------      --------------  -----         \n",
      " 0   Unnamed: 0  2000 non-null   int64         \n",
      " 1   date        2000 non-null   datetime64[ns]\n",
      " 2   review      2000 non-null   object        \n",
      " 3   rating      2000 non-null   int64         \n",
      " 4   title       2000 non-null   object        \n",
      "dtypes: datetime64[ns](1), int64(2), object(2)\n",
      "memory usage: 78.3+ KB\n"
     ]
    },
    {
     "data": {
      "text/html": [
       "<div>\n",
       "<style scoped>\n",
       "    .dataframe tbody tr th:only-of-type {\n",
       "        vertical-align: middle;\n",
       "    }\n",
       "\n",
       "    .dataframe tbody tr th {\n",
       "        vertical-align: top;\n",
       "    }\n",
       "\n",
       "    .dataframe thead th {\n",
       "        text-align: right;\n",
       "    }\n",
       "</style>\n",
       "<table border=\"1\" class=\"dataframe\">\n",
       "  <thead>\n",
       "    <tr style=\"text-align: right;\">\n",
       "      <th></th>\n",
       "      <th>Unnamed: 0</th>\n",
       "      <th>rating</th>\n",
       "    </tr>\n",
       "  </thead>\n",
       "  <tbody>\n",
       "    <tr>\n",
       "      <th>count</th>\n",
       "      <td>2000.000000</td>\n",
       "      <td>2000.000000</td>\n",
       "    </tr>\n",
       "    <tr>\n",
       "      <th>mean</th>\n",
       "      <td>999.500000</td>\n",
       "      <td>3.375000</td>\n",
       "    </tr>\n",
       "    <tr>\n",
       "      <th>std</th>\n",
       "      <td>577.494589</td>\n",
       "      <td>1.834409</td>\n",
       "    </tr>\n",
       "    <tr>\n",
       "      <th>min</th>\n",
       "      <td>0.000000</td>\n",
       "      <td>1.000000</td>\n",
       "    </tr>\n",
       "    <tr>\n",
       "      <th>25%</th>\n",
       "      <td>499.750000</td>\n",
       "      <td>1.000000</td>\n",
       "    </tr>\n",
       "    <tr>\n",
       "      <th>50%</th>\n",
       "      <td>999.500000</td>\n",
       "      <td>5.000000</td>\n",
       "    </tr>\n",
       "    <tr>\n",
       "      <th>75%</th>\n",
       "      <td>1499.250000</td>\n",
       "      <td>5.000000</td>\n",
       "    </tr>\n",
       "    <tr>\n",
       "      <th>max</th>\n",
       "      <td>1999.000000</td>\n",
       "      <td>5.000000</td>\n",
       "    </tr>\n",
       "  </tbody>\n",
       "</table>\n",
       "</div>"
      ],
      "text/plain": [
       "        Unnamed: 0       rating\n",
       "count  2000.000000  2000.000000\n",
       "mean    999.500000     3.375000\n",
       "std     577.494589     1.834409\n",
       "min       0.000000     1.000000\n",
       "25%     499.750000     1.000000\n",
       "50%     999.500000     5.000000\n",
       "75%    1499.250000     5.000000\n",
       "max    1999.000000     5.000000"
      ]
     },
     "execution_count": 9,
     "metadata": {},
     "output_type": "execute_result"
    }
   ],
   "source": [
    "df.info()\n",
    "df.describe()"
   ]
  },
  {
   "cell_type": "code",
   "execution_count": 10,
   "id": "697691d0",
   "metadata": {},
   "outputs": [
    {
     "name": "stdout",
     "output_type": "stream",
     "text": [
      "Data Sebelum Cleaning\n",
      "Jumlah baris: 2000\n",
      "Jumlah duplikat: 0\n",
      "Missing values per kolom:\n",
      " Unnamed: 0    0\n",
      "date          0\n",
      "review        0\n",
      "rating        0\n",
      "title         0\n",
      "dtype: int64\n"
     ]
    }
   ],
   "source": [
    "# --- Tinjauan Data Sebelum Cleaning ---\n",
    "print(\"Data Sebelum Cleaning\")\n",
    "print(\"Jumlah baris:\", df.shape[0])\n",
    "print(\"Jumlah duplikat:\", df.duplicated().sum())\n",
    "print(\"Missing values per kolom:\\n\", df.isnull().sum())"
   ]
  },
  {
   "cell_type": "code",
   "execution_count": 11,
   "id": "a614b3e4",
   "metadata": {},
   "outputs": [
    {
     "name": "stdout",
     "output_type": "stream",
     "text": [
      "Jumlah outlier pada rating: 0\n"
     ]
    }
   ],
   "source": [
    "# --- Deteksi Outlier ---\n",
    "# Misal: anggap rating harus berada pada rentang 1 sampai 5\n",
    "outliers = df[(df['rating'] < 1) | (df['rating'] > 5)]\n",
    "print(\"Jumlah outlier pada rating:\", outliers.shape[0])"
   ]
  },
  {
   "cell_type": "code",
   "execution_count": 12,
   "id": "72eece33",
   "metadata": {},
   "outputs": [
    {
     "name": "stdout",
     "output_type": "stream",
     "text": [
      "\n",
      "Data Setelah Cleaning\n",
      "Jumlah baris: 2000\n",
      "Jumlah duplikat: 0\n",
      "Missing values per kolom:\n",
      " Unnamed: 0    0\n",
      "date          0\n",
      "review        0\n",
      "rating        0\n",
      "title         0\n",
      "dtype: int64\n"
     ]
    }
   ],
   "source": [
    "# --- Proses Data Cleaning ---\n",
    "# Hapus duplikat\n",
    "df_clean = df.drop_duplicates()\n",
    "# Hapus baris yang memiliki missing values\n",
    "df_clean = df_clean.dropna()\n",
    "# Hapus outlier (rating di luar rentang 1-5)\n",
    "df_clean = df_clean[(df_clean['rating'] >= 1) & (df_clean['rating'] <= 5)]\n",
    "\n",
    "print(\"\\nData Setelah Cleaning\")\n",
    "print(\"Jumlah baris:\", df_clean.shape[0])\n",
    "print(\"Jumlah duplikat:\", df_clean.duplicated().sum())\n",
    "print(\"Missing values per kolom:\\n\", df_clean.isnull().sum())"
   ]
  },
  {
   "cell_type": "code",
   "execution_count": 13,
   "id": "c4979693",
   "metadata": {},
   "outputs": [
    {
     "data": {
      "text/plain": [
       "<Figure size 1200x500 with 0 Axes>"
      ]
     },
     "execution_count": 13,
     "metadata": {},
     "output_type": "execute_result"
    },
    {
     "data": {
      "text/plain": [
       "<Figure size 1200x500 with 0 Axes>"
      ]
     },
     "metadata": {},
     "output_type": "display_data"
    }
   ],
   "source": [
    "# --- Visualisasi Data Sebelum/Setelah Cleaning (Histogram dan Box Plot) ---\n",
    "plt.figure(figsize=(12,5))"
   ]
  },
  {
   "cell_type": "code",
   "execution_count": 14,
   "id": "59ceeb32",
   "metadata": {},
   "outputs": [
    {
     "data": {
      "text/plain": [
       "Text(0.5, 1.0, 'Histogram Rating (Setelah Cleaning)')"
      ]
     },
     "execution_count": 14,
     "metadata": {},
     "output_type": "execute_result"
    },
    {
     "data": {
      "image/png": "[encoded data removed]",
      "text/plain": [
       "<Figure size 640x480 with 1 Axes>"
      ]
     },
     "metadata": {},
     "output_type": "display_data"
    }
   ],
   "source": [
    "# Histogram rating\n",
    "plt.subplot(1,2,1)\n",
    "sns.histplot(df_clean['rating'], bins=5, kde=False)\n",
    "plt.title('Histogram Rating (Setelah Cleaning)')"
   ]
  },
  {
   "cell_type": "code",
   "execution_count": 15,
   "id": "7306ffbd",
   "metadata": {},
   "outputs": [
    {
     "data": {
      "image/png": "[encoded data removed]",
      "text/plain": [
       "<Figure size 640x480 with 1 Axes>"
      ]
     },
     "metadata": {},
     "output_type": "display_data"
    }
   ],
   "source": [
    "# Boxplot rating\n",
    "plt.subplot(1,2,2)\n",
    "sns.boxplot(x=df_clean['rating'])\n",
    "plt.title('Boxplot Rating (Setelah Cleaning)')\n",
    "plt.tight_layout()\n",
    "plt.show()"
   ]
  },
  {
   "cell_type": "code",
   "execution_count": 16,
   "id": "3174d11e",
   "metadata": {},
   "outputs": [
    {
     "name": "stdout",
     "output_type": "stream",
     "text": [
      "\n",
      "Perbandingan Jumlah Record:\n",
      "Sebelum Cleaning: 2000\n",
      "Setelah Cleaning: 2000\n"
     ]
    }
   ],
   "source": [
    "# --- Perbandingan Jumlah Data ---\n",
    "print(\"\\nPerbandingan Jumlah Record:\")\n",
    "print(\"Sebelum Cleaning:\", df.shape[0])\n",
    "print(\"Setelah Cleaning:\", df_clean.shape[0])\n",
    "\n",
    "# --- Simpan dataset yang sudah dibersihkan ---\n",
    "df_clean.to_csv('AppStoreGojekReviews-CLEANED.csv', index=False)"
   ]
  },
  {
   "cell_type": "code",
   "execution_count": 17,
   "id": "6d6bbe80",
   "metadata": {},
   "outputs": [
    {
     "name": "stdout",
     "output_type": "stream",
     "text": [
      "Total Reviews: 2000\n",
      "Average Rating: 3.375\n"
     ]
    }
   ],
   "source": [
    "# Menghitung metrik dasar\n",
    "total_reviews = df_clean.shape[0]\n",
    "average_rating = df_clean['rating'].mean()\n",
    "\n",
    "print(\"Total Reviews:\", total_reviews)\n",
    "print(\"Average Rating:\", average_rating)"
   ]
  },
  {
   "cell_type": "code",
   "execution_count": 18,
   "id": "715ebd79",
   "metadata": {},
   "outputs": [
    {
     "data": {
      "image/png": "[encoded data removed]",
      "text/plain": [
       "<Figure size 800x600 with 1 Axes>"
      ]
     },
     "metadata": {},
     "output_type": "display_data"
    }
   ],
   "source": [
    "# --- Pie Chart: Persentase tiap Rating ---\n",
    "rating_counts = df_clean['rating'].value_counts().sort_index()\n",
    "plt.figure(figsize=(8,6))\n",
    "plt.pie(rating_counts, labels=rating_counts.index, autopct='%1.1f%%', startangle=140)\n",
    "plt.title('Persentase Rating')\n",
    "plt.show()"
   ]
  },
  {
   "cell_type": "code",
   "execution_count": 19,
   "id": "59e57215",
   "metadata": {},
   "outputs": [
    {
     "data": {
      "image/png": "[encoded data removed]",
      "text/plain": [
       "<Figure size 800x600 with 1 Axes>"
      ]
     },
     "metadata": {},
     "output_type": "display_data"
    }
   ],
   "source": [
    "# --- Bar Chart: Distribusi Sentimen berdasarkan Rating ---\n",
    "# Misal: rating 1-2 = Negative, rating 3 = Neutral, rating 4-5 = Positive\n",
    "def sentiment(rating):\n",
    "    if rating <= 2:\n",
    "        return 'Negative'\n",
    "    elif rating == 3:\n",
    "        return 'Neutral'\n",
    "    else:\n",
    "        return 'Positive'\n",
    "\n",
    "df_clean['sentiment'] = df_clean['rating'].apply(sentiment)\n",
    "sentiment_counts = df_clean['sentiment'].value_counts()\n",
    "\n",
    "plt.figure(figsize=(8,6))\n",
    "sns.barplot(x=sentiment_counts.index, y=sentiment_counts.values)\n",
    "plt.title('Distribusi Sentimen Berdasarkan Rating')\n",
    "plt.xlabel('Sentimen')\n",
    "plt.ylabel('Jumlah')\n",
    "plt.show()"
   ]
  },
  {
   "cell_type": "code",
   "execution_count": 21,
   "id": "84d3cea8",
   "metadata": {},
   "outputs": [],
   "source": [
    "# import dash\n",
    "# from dash import dcc, html\n",
    "# import plotly.express as px\n",
    "\n",
    "# # Membuat figure menggunakan Plotly Express\n",
    "# fig_hist = px.histogram(df_clean, x='rating', nbins=5, title='Histogram Rating')\n",
    "# fig_box = px.box(df_clean, x='rating', title='Boxplot Rating')\n",
    "# fig_pie = px.pie(values=rating_counts.values, names=rating_counts.index, title='Persentase Rating')\n",
    "# fig_bar = px.bar(x=sentiment_counts.index, y=sentiment_counts.values,\n",
    "#                  title='Distribusi Sentimen Berdasarkan Rating',\n",
    "#                  labels={'x': 'Sentimen', 'y': 'Jumlah'})\n",
    "# fig_line = px.line(x=reviews_per_date.index, y=reviews_per_date.values,\n",
    "#                    title='Jumlah Review per Tanggal',\n",
    "#                    labels={'x': 'Tanggal', 'y': 'Jumlah Review'})\n",
    "\n",
    "# # Inisialisasi Dash app\n",
    "# app = dash.Dash(__name__)\n",
    "\n",
    "# app.layout = html.Div([\n",
    "#     html.H1(\"Dashboard Analisis AppStore Gojek Reviews\", style={'textAlign': 'center'}),\n",
    "#     html.Div([\n",
    "#         html.Div([dcc.Graph(figure=fig_hist)], style={'width': '48%', 'display': 'inline-block'}),\n",
    "#         html.Div([dcc.Graph(figure=fig_box)], style={'width': '48%', 'display': 'inline-block'})\n",
    "#     ]),\n",
    "#     html.Div([\n",
    "#         html.Div([dcc.Graph(figure=fig_pie)], style={'width': '48%', 'display': 'inline-block'}),\n",
    "#         html.Div([dcc.Graph(figure=fig_bar)], style={'width': '48%', 'display': 'inline-block'})\n",
    "#     ]),\n",
    "#     html.Div([dcc.Graph(figure=fig_line)], style={'width': '100%', 'display': 'inline-block'}),\n",
    "#     html.Div([\n",
    "#         html.P(f\"Total Reviews: {total_reviews}\", style={'fontSize': '18px'}),\n",
    "#         html.P(f\"Average Rating: {average_rating:.2f}\", style={'fontSize': '18px'})\n",
    "#     ], style={'textAlign': 'center', 'marginTop': '20px'})\n",
    "# ])\n",
    "\n",
    "# if __name__ == '__main__':\n",
    "#     app.run_server(debug=True)\n"
   ]
  }
 ],
 "metadata": {
  "kernelspec": {
   "display_name": "Python 3 (ipykernel)",
   "language": "python",
   "name": "python3"
  },
  "language_info": {
   "codemirror_mode": {
    "name": "ipython",
    "version": 3
   },
   "file_extension": ".py",
   "mimetype": "text/x-python",
   "name": "python",
   "nbconvert_exporter": "python",
   "pygments_lexer": "ipython3",
   "version": "3.11.4"
  }
 },
 "nbformat": 4,
 "nbformat_minor": 5
}
